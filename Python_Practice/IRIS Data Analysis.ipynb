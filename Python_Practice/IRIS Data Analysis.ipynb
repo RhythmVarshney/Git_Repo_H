{
 "cells": [
  {
   "cell_type": "code",
   "execution_count": 1,
   "metadata": {},
   "outputs": [],
   "source": [
    "import urllib\n",
    "import urllib.request\n",
    "import bs4\n",
    "from bs4 import BeautifulSoup\n",
    "import os"
   ]
  },
  {
   "cell_type": "code",
   "execution_count": 2,
   "metadata": {},
   "outputs": [
    {
     "data": {
      "text/plain": [
       "5625"
      ]
     },
     "execution_count": 2,
     "metadata": {},
     "output_type": "execute_result"
    }
   ],
   "source": [
    "def make_soup(url):\n",
    "    thepage = urllib.request.urlopen(url)\n",
    "    soupdata = BeautifulSoup(thepage, \"html.parser\")\n",
    "    return soupdata\n",
    "\n",
    "iris_data_saved = \"\"\n",
    "\n",
    "soup = make_soup('https://en.wikipedia.org/wiki/Iris_flower_data_set')\n",
    "\n",
    "for record in soup.findAll('tr'):\n",
    "    #print(record.text)\n",
    "    iris_data = \"\"\n",
    "    for data in record.findAll('td'):\n",
    "        #print(data.text)\n",
    "        iris_data = iris_data+\",\"+data.text\n",
    "    #print(player_data)\n",
    "    if len(iris_data) != 0:\n",
    "        iris_data_saved =iris_data_saved + \"\\n\" + iris_data[1:]\n",
    "#print(iris_data_saved)\n",
    "    \n",
    "\n",
    "header = \"Dataset_Order, Sepal_Length, Sepal_Width, Petal_Length, Petal_Width, Species\"\n",
    "\n",
    "iris_file = open(os.path.expanduser(\"Iris_data.csv\"), \"wb\")\n",
    "iris_file.write(bytes(header, encoding = \"ascii\", errors ='ignore'))\n",
    "iris_file.write(bytes(iris_data_saved, encoding = \"ascii\", errors ='ignore'))"
   ]
  },
  {
   "cell_type": "code",
   "execution_count": null,
   "metadata": {},
   "outputs": [],
   "source": []
  }
 ],
 "metadata": {
  "kernelspec": {
   "display_name": "Python 3",
   "language": "python",
   "name": "python3"
  },
  "language_info": {
   "codemirror_mode": {
    "name": "ipython",
    "version": 3
   },
   "file_extension": ".py",
   "mimetype": "text/x-python",
   "name": "python",
   "nbconvert_exporter": "python",
   "pygments_lexer": "ipython3",
   "version": "3.6.4"
  }
 },
 "nbformat": 4,
 "nbformat_minor": 2
}
